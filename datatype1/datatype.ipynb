{
 "cells": [
  {
   "cell_type": "code",
   "execution_count": 21,
   "metadata": {},
   "outputs": [
    {
     "name": "stdout",
     "output_type": "stream",
     "text": [
      "24\n",
      "12.5\n",
      "1267650600228229401496703205376\n",
      "2.0\n",
      "2\n"
     ]
    }
   ],
   "source": [
    "# This cell demonstrates basic arithmetic operations\n",
    "print(12 + 12)\n",
    "print(2.5 * 5)\n",
    "print(2 ** 100)\n",
    "print(10/5)\n",
    "print(10//5) # floor division : rounds the result down to the nearest whole number\n"
   ]
  },
  {
   "cell_type": "code",
   "execution_count": 8,
   "metadata": {},
   "outputs": [
    {
     "data": {
      "text/plain": [
       "1267650600228229401496703205376"
      ]
     },
     "execution_count": 8,
     "metadata": {},
     "output_type": "execute_result"
    }
   ],
   "source": [
    "# This cell imports the math library and demonstrates its usage\n",
    "import math # module\n",
    "print(math.pi)"
   ]
  },
  {
   "cell_type": "code",
   "execution_count": 14,
   "metadata": {},
   "outputs": [
    {
     "name": "stdout",
     "output_type": "stream",
     "text": [
      "0.4525461380449527\n",
      "1\n"
     ]
    }
   ],
   "source": [
    "# This cell demonstrates using the random library\n",
    "import random\n",
    "\n",
    "print(random.random())\n",
    "print(random.choice([1, 2, 3, 4]))\n"
   ]
  },
  {
   "cell_type": "code",
   "execution_count": 15,
   "metadata": {},
   "outputs": [
    {
     "name": "stdout",
     "output_type": "stream",
     "text": [
      "16\n",
      "k\n",
      "y\n",
      "ou\n"
     ]
    }
   ],
   "source": [
    "# This cell shows string manipulation\n",
    "username = \"koushikchowdhury\"\n",
    "\n",
    "print(len(username))\n",
    "print(username[0])\n",
    "print(username[-1])\n",
    "print(username[1:3])"
   ]
  },
  {
   "cell_type": "code",
   "execution_count": 16,
   "metadata": {},
   "outputs": [
    {
     "name": "stdout",
     "output_type": "stream",
     "text": [
      "[123, 'koushik', 3.14]\n",
      "3\n",
      "123\n",
      "3.14\n"
     ]
    }
   ],
   "source": [
    "# This cell demonstrates list creation and access\n",
    "mylist = [123, \"koushik\", 3.14]\n",
    "\n",
    "print(mylist)\n",
    "print(len(mylist))\n",
    "print(mylist[0])\n",
    "print(mylist[2])"
   ]
  },
  {
   "cell_type": "code",
   "execution_count": 17,
   "metadata": {},
   "outputs": [
    {
     "name": "stdout",
     "output_type": "stream",
     "text": [
      "{'one': 'lemon', 'two': 'ginger', 'comic': 'ironman'}\n",
      "ironman\n"
     ]
    }
   ],
   "source": [
    "# This cell demonstrates dictionary creation and access\n",
    "myd = {\"one\": \"lemon\", \"two\": \"ginger\", \"comic\": \"ironman\"}\n",
    "\n",
    "print(myd)\n",
    "print(myd[\"comic\"])\n"
   ]
  },
  {
   "cell_type": "code",
   "execution_count": 18,
   "metadata": {},
   "outputs": [
    {
     "name": "stdout",
     "output_type": "stream",
     "text": [
      "(1, 2, 3, 4)\n",
      "1\n"
     ]
    }
   ],
   "source": [
    "# This cell demonstrates creating a tuple and accessing its element\n",
    "mytp = (1, 2, 3, 4)\n",
    "\n",
    "print(mytp)\n",
    "print(mytp[0])"
   ]
  },
  {
   "cell_type": "code",
   "execution_count": 25,
   "metadata": {},
   "outputs": [
    {
     "name": "stdout",
     "output_type": "stream",
     "text": [
      "False\n",
      "True\n"
     ]
    }
   ],
   "source": [
    "# This cell demonstrates boolean \n",
    "a = 10\n",
    "b = 4\n",
    "\n",
    "print(a < b)\n",
    "print(b < a)"
   ]
  }
 ],
 "metadata": {
  "kernelspec": {
   "display_name": "Python 3",
   "language": "python",
   "name": "python3"
  },
  "language_info": {
   "codemirror_mode": {
    "name": "ipython",
    "version": 3
   },
   "file_extension": ".py",
   "mimetype": "text/x-python",
   "name": "python",
   "nbconvert_exporter": "python",
   "pygments_lexer": "ipython3",
   "version": "3.12.1"
  }
 },
 "nbformat": 4,
 "nbformat_minor": 2
}
